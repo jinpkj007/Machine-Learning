{
 "cells": [
  {
   "cell_type": "code",
   "execution_count": 2,
   "metadata": {},
   "outputs": [
    {
     "name": "stdout",
     "output_type": "stream",
     "text": [
      "Iteration number 0 cost value:  2.4636778095255303\n"
     ]
    },
    {
     "data": {
      "text/plain": [
       "89.9402390438247"
      ]
     },
     "metadata": {},
     "output_type": "display_data"
    },
    {
     "name": "stdout",
     "output_type": "stream",
     "text": [
      "Iteration number 100 cost value:  1.1081252284464227\n"
     ]
    },
    {
     "data": {
      "text/plain": [
       "38.44621513944223"
      ]
     },
     "metadata": {},
     "output_type": "display_data"
    },
    {
     "name": "stdout",
     "output_type": "stream",
     "text": [
      "Iteration number 200 cost value:  0.31610415940080605\n"
     ]
    },
    {
     "data": {
      "text/plain": [
       "11.852589641434262"
      ]
     },
     "metadata": {},
     "output_type": "display_data"
    },
    {
     "name": "stdout",
     "output_type": "stream",
     "text": [
      "Iteration number 300 cost value:  0.16218024936460562\n"
     ]
    },
    {
     "data": {
      "text/plain": [
       "9.163346613545817"
      ]
     },
     "metadata": {},
     "output_type": "display_data"
    },
    {
     "name": "stdout",
     "output_type": "stream",
     "text": [
      "Iteration number 400 cost value:  0.08255223991042394\n"
     ]
    },
    {
     "data": {
      "text/plain": [
       "7.569721115537849"
      ]
     },
     "metadata": {},
     "output_type": "display_data"
    },
    {
     "name": "stdout",
     "output_type": "stream",
     "text": [
      "Iteration number 500 cost value:  0.06953000848998475\n"
     ]
    },
    {
     "data": {
      "text/plain": [
       "7.370517928286852"
      ]
     },
     "metadata": {},
     "output_type": "display_data"
    },
    {
     "name": "stdout",
     "output_type": "stream",
     "text": [
      "Iteration number 600 cost value:  0.05888602368232558\n"
     ]
    },
    {
     "data": {
      "text/plain": [
       "7.171314741035856"
      ]
     },
     "metadata": {},
     "output_type": "display_data"
    },
    {
     "name": "stdout",
     "output_type": "stream",
     "text": [
      "Iteration number 700 cost value:  0.04992490956185565\n"
     ]
    },
    {
     "data": {
      "text/plain": [
       "7.270916334661354"
      ]
     },
     "metadata": {},
     "output_type": "display_data"
    },
    {
     "name": "stdout",
     "output_type": "stream",
     "text": [
      "Iteration number 800 cost value:  0.042428344622838725\n"
     ]
    },
    {
     "data": {
      "text/plain": [
       "7.270916334661354"
      ]
     },
     "metadata": {},
     "output_type": "display_data"
    },
    {
     "name": "stdout",
     "output_type": "stream",
     "text": [
      "Iteration number 900 cost value:  0.036217772870065376\n"
     ]
    },
    {
     "data": {
      "text/plain": [
       "7.370517928286852"
      ]
     },
     "metadata": {},
     "output_type": "display_data"
    },
    {
     "name": "stdout",
     "output_type": "stream",
     "text": [
      "Iteration number 1000 cost value:  0.031118713292752506\n"
     ]
    },
    {
     "data": {
      "text/plain": [
       "7.370517928286852"
      ]
     },
     "metadata": {},
     "output_type": "display_data"
    },
    {
     "name": "stdout",
     "output_type": "stream",
     "text": [
      "Iteration number 1100 cost value:  0.026939136931412224\n"
     ]
    },
    {
     "data": {
      "text/plain": [
       "7.370517928286852"
      ]
     },
     "metadata": {},
     "output_type": "display_data"
    },
    {
     "name": "stdout",
     "output_type": "stream",
     "text": [
      "Iteration number 1200 cost value:  0.02349451325649948\n"
     ]
    },
    {
     "data": {
      "text/plain": [
       "7.47011952191235"
      ]
     },
     "metadata": {},
     "output_type": "display_data"
    },
    {
     "name": "stdout",
     "output_type": "stream",
     "text": [
      "Iteration number 1300 cost value:  0.020639823221961853\n"
     ]
    },
    {
     "data": {
      "text/plain": [
       "7.0717131474103585"
      ]
     },
     "metadata": {},
     "output_type": "display_data"
    },
    {
     "name": "stdout",
     "output_type": "stream",
     "text": [
      "Iteration number 1400 cost value:  0.01826411088153425\n"
     ]
    },
    {
     "data": {
      "text/plain": [
       "6.872509960159363"
      ]
     },
     "metadata": {},
     "output_type": "display_data"
    },
    {
     "name": "stdout",
     "output_type": "stream",
     "text": [
      "Iteration number 1500 cost value:  0.016271979788805208\n"
     ]
    },
    {
     "data": {
      "text/plain": [
       "6.972111553784861"
      ]
     },
     "metadata": {},
     "output_type": "display_data"
    },
    {
     "name": "stdout",
     "output_type": "stream",
     "text": [
      "Iteration number 1600 cost value:  0.014582770688589033\n"
     ]
    },
    {
     "data": {
      "text/plain": [
       "6.772908366533865"
      ]
     },
     "metadata": {},
     "output_type": "display_data"
    },
    {
     "name": "stdout",
     "output_type": "stream",
     "text": [
      "Iteration number 1700 cost value:  0.013135850171923692\n"
     ]
    },
    {
     "data": {
      "text/plain": [
       "6.772908366533865"
      ]
     },
     "metadata": {},
     "output_type": "display_data"
    },
    {
     "name": "stdout",
     "output_type": "stream",
     "text": [
      "Iteration number 1800 cost value:  0.011892814426986255\n"
     ]
    },
    {
     "data": {
      "text/plain": [
       "6.772908366533865"
      ]
     },
     "metadata": {},
     "output_type": "display_data"
    },
    {
     "name": "stdout",
     "output_type": "stream",
     "text": [
      "Iteration number 1900 cost value:  0.010826145566200778\n"
     ]
    },
    {
     "data": {
      "text/plain": [
       "6.872509960159363"
      ]
     },
     "metadata": {},
     "output_type": "display_data"
    },
    {
     "data": {
      "image/png": "[encoded data removed]",
      "text/plain": [
       "<Figure size 432x288 with 1 Axes>"
      ]
     },
     "metadata": {},
     "output_type": "display_data"
    }
   ],
   "source": [
    "import numpy as np\n",
    "X = []  \n",
    "m = 6006\n",
    "with open('mnist_small_train_in.txt') as f:\n",
    "    for item in f:\n",
    "            X.append([int(i) for i in item.split(\",\")])\n",
    "X=np.array(X)\n",
    "\n",
    "y =[] \n",
    "    #display(X.shape)\n",
    "with open('mnist_small_train_out.txt') as f:\n",
    "    for item in f:\n",
    "        y.append([int(i) for i in item.split()])\n",
    "y=np.array(y)\n",
    "\n",
    "X_t = []  \n",
    "with open('mnist_small_test_in.txt') as f:\n",
    "    for item in f:\n",
    "            X_t.append([int(i) for i in item.split(\",\")])\n",
    "X_t=np.array(X_t)\n",
    "\n",
    "y_t =[] \n",
    "\n",
    "with open('mnist_small_test_out.txt') as f:\n",
    "    for item in f:\n",
    "        y_t.append([int(i) for i in item.split()])\n",
    "y_t=np.array(y_t)\n",
    "\n",
    "\n",
    "\n",
    "digits = 10\n",
    "\n",
    "\n",
    "n_train_samples = y.shape[0]  ## reshape output of training data into  10 rows and 6606 column in one hot encoding format \n",
    "y = y.reshape(1, n_train_samples) # 1 row 6606 colm\n",
    "Y_new = np.eye(digits)[y.astype('int32')]\n",
    "Y_new = Y_new.T.reshape(digits, n_train_samples)  # 10 rows and 6606 column\n",
    "\n",
    "\n",
    "n_test_samples = y_t.shape[0]  ## reshape testing data\n",
    "y_t = y_t.reshape(1, n_test_samples)  \n",
    "Y_t_new = np.eye(digits)[y_t.astype('int32')]\n",
    "Y_t_new = Y_t_new.T.reshape(digits, n_test_samples)\n",
    "\n",
    "\n",
    "\n",
    "\n",
    "\n",
    "X_train, X_test = X.T, X_t.T\n",
    "Y_train, Y_test = Y_new, Y_t_new\n",
    "\n",
    "\n",
    "def sigmoid(z):\n",
    "    s = 1 / (1 + np.exp(-z))\n",
    "    return s\n",
    "\n",
    "def loss(Y, Y_hat):\n",
    "\n",
    "    L_sum = np.sum(np.multiply(Y, np.log(Y_hat)))\n",
    "    m = Y.shape[1]\n",
    "    L = -(1/m) * L_sum\n",
    "\n",
    "    return L\n",
    "\n",
    "\n",
    "import matplotlib.pyplot as plt\n",
    "n_x = X_train.shape[0]\n",
    "n_h1 = 128\n",
    "n_h2 = 128\n",
    "learning_rate = 4\n",
    "\n",
    "W1 = np.random.randn(n_h1, n_x)* np.sqrt(1. / n_x)  ## shrinked variance of each layer by diving by square root of number of nodes in that layer\n",
    "b1 = np.zeros((n_h1, 1))* np.sqrt(1. / n_x)\n",
    "W2 = np.random.randn(n_h2, n_h1)* np.sqrt(1. / n_h1)\n",
    "b2 = np.zeros((n_h2, 1))* np.sqrt(1. / n_h1)\n",
    "W3 = np.random.randn(digits, n_h2)* np.sqrt(1. / n_h2)\n",
    "b3 = np.zeros((digits, 1))* np.sqrt(1. / n_h2)\n",
    "\n",
    "X = X_train\n",
    "Y = Y_train\n",
    "\n",
    "plotting=[]\n",
    "\n",
    "\n",
    "\n",
    "for i in range(2000):\n",
    "    \n",
    "    if(i>400):\n",
    "        learning_rate=1.08  # decreasing LR later\n",
    "    Z1 = np.matmul(W1,X) + b1\n",
    "    A1 = sigmoid(Z1)\n",
    "    Z2 = np.matmul(W2,A1) + b2\n",
    "    A2 = sigmoid(Z2)\n",
    "    Z3 = np.matmul(W3,A2) + b3\n",
    "    A3 = np.exp(Z3) / np.sum(np.exp(Z3), axis=0)  ## softmax at last layer as it sums all prob to 1\n",
    "    #display(A2)\n",
    "    \n",
    "\n",
    "    cost = loss(Y, A3)  # calculating the loss\n",
    "    \n",
    "    \n",
    "    #####back propagation begin############\n",
    "    dZ3 = A3-Y  # observed minus expected\n",
    "    dW3 = (1./m) * np.matmul(dZ3, A2.T)  # derivative w.r.t. weights\n",
    "    db3 = (1./m) * np.sum(dZ3, axis=1, keepdims=True) # derivative w.r.t. bias\n",
    "    \n",
    "    dA2 = np.matmul(W3.T, dZ3)\n",
    "    dZ2 = dA2 * sigmoid(Z2) * (1 - sigmoid(Z2))\n",
    "    dW2 = (1./m) * np.matmul(dZ2, A1.T)\n",
    "    db2 = (1./m) * np.sum(dZ2, axis=1, keepdims=True)\n",
    "\n",
    "    dA1 = np.matmul(W2.T, dZ2)\n",
    "    dZ1 = dA1 * sigmoid(Z1) * (1 - sigmoid(Z1))\n",
    "    dW1 = (1./m) * np.matmul(dZ1, X.T)\n",
    "    db1 = (1./m) * np.sum(dZ1, axis=1, keepdims=True)\n",
    "   \n",
    "\n",
    "    W3 = W3 - learning_rate * dW3  # positive gradient tells to travel down to reach minima\n",
    "    b3 = b3 - learning_rate * db3\n",
    "    W2 = W2 - learning_rate * dW2\n",
    "    b2 = b2 - learning_rate * db2\n",
    "    W1 = W1 - learning_rate * dW1\n",
    "    b1 = b1 - learning_rate * db1\n",
    "    #####back propagation end ############\n",
    "    \n",
    "    #### testing the performace on testing data set####\n",
    "    if (i % 100 == 0):\n",
    "        print(\"Iteration number\", i, \"cost value: \", cost)\n",
    "       \n",
    "        Z1 = np.matmul(W1,X_test) + b1\n",
    "        A1 = sigmoid(Z1)\n",
    "        Z2 = np.matmul(W2,A1) + b2\n",
    "        A2 = sigmoid(Z2)\n",
    "        Z3 = np.matmul(W3,A2) + b3\n",
    "        A3 = np.exp(Z3) / np.sum(np.exp(Z3), axis=0)  ## softmax at last layer\n",
    "        predictions = np.argmax(A3, axis=0) # index with max value is our prediction\n",
    "        labels = np.argmax(Y_test, axis=0) # true labels of test data\n",
    "        \n",
    "        k=(np.count_nonzero(predictions-labels))  # number of mismatches \n",
    "        k=(k*100)/1004  # percentage of wrong answers\n",
    "        display(k)\n",
    "        plotting.append(k)\n",
    "                \n",
    "        \n",
    "axes = plt.gca()\n",
    "axes.set_xlim([0,2000])\n",
    "axes.set_ylim([0,20])\n",
    "t = np.arange(0, 2000, 100)\n",
    "plt.plot(t,plotting)\n",
    "plt.grid(True)   \n"
   ]
  },
  {
   "cell_type": "code",
   "execution_count": 11,
   "metadata": {},
   "outputs": [
    {
     "data": {
      "image/png": "[encoded data removed]",
      "text/plain": [
       "<Figure size 432x288 with 1 Axes>"
      ]
     },
     "metadata": {},
     "output_type": "display_data"
    }
   ],
   "source": [
    "axes = plt.gca()\n",
    "axes.set_xlim([0,2000])\n",
    "axes.set_ylim([0,20])\n",
    "t = np.arange(0, 2000, 100)\n",
    "plt.plot(t,plotting,c='r')\n",
    "plt.xlabel('Iteration')\n",
    "plt.ylabel('Misclassification Error(%)')\n",
    "plt.grid(True) "
   ]
  },
  {
   "cell_type": "code",
   "execution_count": null,
   "metadata": {},
   "outputs": [],
   "source": []
  }
 ],
 "metadata": {
  "kernelspec": {
   "display_name": "Python 3",
   "language": "python",
   "name": "python3"
  },
  "language_info": {
   "codemirror_mode": {
    "name": "ipython",
    "version": 3
   },
   "file_extension": ".py",
   "mimetype": "text/x-python",
   "name": "python",
   "nbconvert_exporter": "python",
   "pygments_lexer": "ipython3",
   "version": "3.5.2"
  }
 },
 "nbformat": 4,
 "nbformat_minor": 2
}
