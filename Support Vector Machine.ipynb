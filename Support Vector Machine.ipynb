{
 "cells": [
  {
   "cell_type": "code",
   "execution_count": 72,
   "metadata": {},
   "outputs": [],
   "source": [
    "import matplotlib.pyplot as plt\n",
    "import numpy as np\n",
    "from numpy import linalg\n",
    "import cvxopt\n",
    "import cvxopt.solvers\n",
    "def linear_kernel(x1, x2):\n",
    "    return np.dot(x1, x2)\n",
    "\n",
    "def fit(X,y):\n",
    "    n_samples, n_features = X.shape\n",
    "    # Gram matrix\n",
    "    K = np.zeros((n_samples, n_samples))\n",
    "    for i in range(n_samples):\n",
    "        for j in range(n_samples):\n",
    "            K[i,j] = linear_kernel(X[i], X[j])\n",
    "\n",
    "    P = cvxopt.matrix(np.outer(y,y) * K)\n",
    "    q = cvxopt.matrix(np.ones(n_samples) * -1)\n",
    "    A = cvxopt.matrix(y, (1,n_samples))\n",
    "    b = cvxopt.matrix(0.0)\n",
    "    C=10\n",
    "    tmp1 = np.diag(np.ones(n_samples) * -1)\n",
    "    tmp2 = np.identity(n_samples)\n",
    "    G = cvxopt.matrix(np.vstack((tmp1, tmp2)))\n",
    "    tmp1 = np.zeros(n_samples)\n",
    "    tmp2 = np.ones(n_samples) * C\n",
    "    h = cvxopt.matrix(np.hstack((tmp1, tmp2)))\n",
    "\n",
    "    # solve QP problem\n",
    "    solution = cvxopt.solvers.qp(P, q, G, h, A, b)\n",
    "\n",
    "    # Lagrange multipliers\n",
    "    a = np.ravel(solution['x']) #flatten array\n",
    "\n",
    "    # Support vectors have non zero lagrange multipliers\n",
    "    sv = a > 1e-5\n",
    "    ind = np.arange(len(a))[sv]\n",
    "    a = a[sv]\n",
    "    sv_x = X[sv]\n",
    "    sv_y = y[sv]\n",
    "\n",
    "    #print(\"%d support vectors out of %d points\" % (len(a), n_samples))\n",
    "\n",
    "    # Intercept\n",
    "    b = 0\n",
    "    for n in range(len(a)):\n",
    "        b += sv_y[n]\n",
    "        b -= np.sum(a * sv_y * K[ind[n],sv])\n",
    "    b /= len(a)\n",
    "\n",
    "    # Weight vector\n",
    "    w = np.zeros(n_features)\n",
    "    for n in range(len(a)):\n",
    "        w += a[n] * sv_y[n] * sv_x[n]\n",
    "    return w,b,sv_x"
   ]
  },
  {
   "cell_type": "code",
   "execution_count": 73,
   "metadata": {},
   "outputs": [],
   "source": [
    "def project(w,b, X):\n",
    "    return np.dot(X, w) + b\n",
    "\n",
    "def predict(w,b,X):\n",
    "    return np.sign(project(w,b,X))"
   ]
  },
  {
   "cell_type": "code",
   "execution_count": 74,
   "metadata": {},
   "outputs": [
    {
     "data": {
      "image/png": "[encoded data removed]",
      "text/plain": [
       "<Figure size 432x288 with 1 Axes>"
      ]
     },
     "metadata": {},
     "output_type": "display_data"
    }
   ],
   "source": [
    "file = open(\"iris-pca.txt\",\"r\")\n",
    "\n",
    "PC1=[]\n",
    "PC2=[]\n",
    "\n",
    "Y=[]\n",
    "x=[]\n",
    "    #Repeat for each song in the text file\n",
    "for line in file:  \n",
    "#Let's split the line into an array called \"fields\" using the \",\" as a separator:\n",
    "    fields = line.split()\n",
    "#and let's extract the data:\n",
    "    PC1 = np.append(PC1,float(fields[0]))\n",
    "    PC2 = np.append(PC2,float(fields[1]))\n",
    "    Y = np.append(Y,float(fields[2])) #y is label\n",
    "file.close()\n",
    "X=np.column_stack([PC1,PC2])\n",
    "Y[Y==0] =-1\n",
    "Y[Y==2] =1\n",
    "#PC11=PC1[Y==0]\n",
    "X1=X[Y==-1]\n",
    "Y1=Y[Y==-1]\n",
    "X2=X[Y==1]\n",
    "Y2=Y[Y==1]\n",
    "plt.scatter(X1[:, 0], X1[:, 1], c = 'b')\n",
    "plt.scatter(X2[:, 0], X2[:, 1], c = 'y')\n",
    "plt.show()"
   ]
  },
  {
   "cell_type": "code",
   "execution_count": 75,
   "metadata": {},
   "outputs": [
    {
     "name": "stdout",
     "output_type": "stream",
     "text": [
      "     pcost       dcost       gap    pres   dres\n",
      " 0: -1.4003e+02 -4.4280e+03  1e+04  8e-01  9e-15\n",
      " 1: -8.7387e+01 -1.6027e+03  2e+03  6e-02  1e-14\n",
      " 2: -1.2462e+02 -3.3197e+02  2e+02  6e-03  2e-14\n",
      " 3: -1.6750e+02 -2.4224e+02  8e+01  2e-03  7e-15\n",
      " 4: -1.8250e+02 -2.1360e+02  3e+01  6e-04  7e-15\n",
      " 5: -1.9068e+02 -2.0152e+02  1e+01  2e-04  6e-15\n",
      " 6: -1.9426e+02 -1.9726e+02  3e+00  4e-05  9e-15\n",
      " 7: -1.9499e+02 -1.9603e+02  1e+00  1e-05  8e-15\n",
      " 8: -1.9536e+02 -1.9560e+02  2e-01  5e-07  7e-15\n",
      " 9: -1.9546e+02 -1.9547e+02  4e-03  8e-09  8e-15\n",
      "10: -1.9546e+02 -1.9546e+02  4e-05  8e-11  7e-15\n",
      "Optimal solution found.\n",
      "21 support vectors out of 50 points\n"
     ]
    },
    {
     "data": {
      "text/plain": [
       "array([ 2.477573  , -1.10581408])"
      ]
     },
     "metadata": {},
     "output_type": "display_data"
    },
    {
     "data": {
      "text/plain": [
       "1.030261113637221"
      ]
     },
     "metadata": {},
     "output_type": "display_data"
    },
    {
     "data": {
      "text/plain": [
       "'HERE'"
      ]
     },
     "metadata": {},
     "output_type": "display_data"
    },
    {
     "data": {
      "text/plain": [
       "array([-1., -1., -1., -1., -1., -1., -1., -1., -1.,  1.,  1., -1., -1.,\n",
       "        1., -1., -1., -1., -1., -1., -1.,  1.,  1., -1.,  1., -1.,  1.,\n",
       "        1.,  1.,  1.,  1.,  1.,  1.,  1.,  1.,  1., -1.,  1.,  1.,  1.,\n",
       "        1.,  1.,  1.,  1.,  1.,  1.,  1.,  1.,  1.,  1.,  1.])"
      ]
     },
     "metadata": {},
     "output_type": "display_data"
    },
    {
     "name": "stdout",
     "output_type": "stream",
     "text": [
      "43 out of 50 predictions correct\n"
     ]
    }
   ],
   "source": [
    "X1_train = X1[:25]\n",
    "y1_train = Y1[:25]\n",
    "X2_train = X2[:25]\n",
    "y2_train = Y2[:25]\n",
    "X_train = np.vstack((X1_train, X2_train))\n",
    "y_train = np.hstack((y1_train, y2_train))\n",
    "X1_test = X1[25:]\n",
    "y1_test = Y1[25:]\n",
    "X2_test = X2[25:]\n",
    "y2_test = Y2[25:]\n",
    "X_test = np.vstack((X1_test, X2_test))\n",
    "y_test = np.hstack((y1_test, y2_test))\n",
    "\n",
    "w,b,sv=fit(X_train, y_train)\n",
    "display(w)\n",
    "display(b)\n",
    "display(\"HERE\")\n",
    "y_predict = predict(w,b,X_test)\n",
    "display(y_predict)\n",
    "\n",
    "correct = np.sum(y_predict == y_test)\n",
    "print(\"%d out of %d predictions correct\" % (correct, len(y_predict)));\n",
    "x_wrong=X_test[y_predict != y_test]"
   ]
  },
  {
   "cell_type": "code",
   "execution_count": 77,
   "metadata": {},
   "outputs": [
    {
     "data": {
      "image/png": "[encoded data removed]",
      "text/plain": [
       "<Figure size 432x288 with 1 Axes>"
      ]
     },
     "metadata": {},
     "output_type": "display_data"
    }
   ],
   "source": [
    "import pylab as pl\n",
    "pl.plot(X1_train[:,0], X1_train[:,1], \"ro\",label='Setosa')\n",
    "pl.plot(X2_train[:,0], X2_train[:,1], \"bo\",label='Virginica')\n",
    "pl.plot(X1_test[:,0], X1_test[:,1], \"ro\")\n",
    "pl.plot(X2_test[:,0], X2_test[:,1], \"bo\")\n",
    "pl.plot(x_wrong[:,0], x_wrong[:,1],\"yo\",label='Misclassified')\n",
    "pl.scatter(sv[:,0], sv[:,1], s=100, c=\"g\",label='SVectors')\n",
    "pl.xlabel('PC1')\n",
    "pl.ylabel('PC2')\n",
    "X1, X2 = np.meshgrid(np.linspace(-1.5,2.5,50), np.linspace(-3,3,50))\n",
    "X = np.array([[x1, x2] for x1, x2 in zip(np.ravel(X1), np.ravel(X2))])\n",
    "Z = project(w,b,X).reshape(X1.shape)\n",
    "\n",
    "pl.contour(X1, X2, Z, [0.0], colors='k', linewidths=1, origin='lower')\n",
    "pl.contour(X1, X2, Z + 1, [0.0], colors='grey', linewidths=1, origin='lower')\n",
    "pl.contour(X1, X2, Z - 1, [0.0], colors='grey', linewidths=1, origin='lower')\n",
    "pl.legend()\n",
    "pl.axis(\"tight\")\n",
    "pl.show()"
   ]
  }
 ],
 "metadata": {
  "kernelspec": {
   "display_name": "Python 3",
   "language": "python",
   "name": "python3"
  },
  "language_info": {
   "codemirror_mode": {
    "name": "ipython",
    "version": 3
   },
   "file_extension": ".py",
   "mimetype": "text/x-python",
   "name": "python",
   "nbconvert_exporter": "python",
   "pygments_lexer": "ipython3",
   "version": "3.5.2"
  }
 },
 "nbformat": 4,
 "nbformat_minor": 2
}
