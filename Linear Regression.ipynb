{
 "cells": [
  {
   "cell_type": "code",
   "execution_count": 1,
   "metadata": {},
   "outputs": [],
   "source": [
    "###(C) Prabhash Kumar Jha & Isheeta Jha ###\n",
    "\n",
    "###Polynomial Features#######\n",
    "\n",
    "import numpy as np\n",
    "import matplotlib.pyplot as plt\n",
    "def Getpolymatrix(dataset,n):\n",
    "    Matrix = [[0 for x in range(n)] for y in range(len(dataset))]  #X data set in polynominal format\n",
    "    k = 0\n",
    "    for data in dataset:\n",
    "        temp = []\n",
    "        for i in range(n):\n",
    "            temp=np.append(temp,data**i)\n",
    "        Matrix[k] = temp\n",
    "        k = k+1\n",
    "\n",
    "    return Matrix"
   ]
  },
  {
   "cell_type": "code",
   "execution_count": 2,
   "metadata": {},
   "outputs": [],
   "source": [
    "def GetData( ):\n",
    "    input_var = []\n",
    "    out_var = []\n",
    "    f = open(\"LinRegData.txt\",\"r\")\n",
    "    lines = f.readlines()\n",
    "    for x in lines:\n",
    "        fields = x.split(' ')\n",
    "        input_var = np.append(input_var,float(fields[3]))\n",
    "        if fields[5]=='':\n",
    "            out_var = np.append(out_var,float(fields[6]))\n",
    "        else:\n",
    "            out_var = np.append(out_var,float(fields[5]))\n",
    "    f.close()\n",
    "\n",
    "   \n",
    "    return input_var,out_var"
   ]
  },
  {
   "cell_type": "code",
   "execution_count": 3,
   "metadata": {},
   "outputs": [],
   "source": [
    "input_var,out_var=GetData();\n",
    "dataset=np.vstack((input_var,out_var))\n",
    "training_set = np.array([input_var[0:20] ,out_var[0:20]])\n",
    "testing_set = np.array([input_var[20:151] ,out_var[20:151]])"
   ]
  },
  {
   "cell_type": "code",
   "execution_count": 4,
   "metadata": {},
   "outputs": [
    {
     "data": {
      "text/plain": [
       "'order for minimum RMSE'"
      ]
     },
     "metadata": {},
     "output_type": "display_data"
    },
    {
     "data": {
      "text/plain": [
       "12"
      ]
     },
     "metadata": {},
     "output_type": "display_data"
    },
    {
     "data": {
      "text/plain": [
       "'minimum RMSE for testing'"
      ]
     },
     "metadata": {},
     "output_type": "display_data"
    },
    {
     "data": {
      "text/plain": [
       "0.008423757731355952"
      ]
     },
     "metadata": {},
     "output_type": "display_data"
    }
   ],
   "source": [
    "\n",
    "\n",
    "\n",
    "maxorder =22;\n",
    "N = np.arange(1,maxorder+1, 1);\n",
    "lmda = 0.000001;\n",
    "RMSE_testing = [0 for x in range(maxorder)]\n",
    "RMSE_training = [0 for x in range(maxorder)]\n",
    "t = 0;\n",
    "for n in N: #check for each model order\n",
    "    Matrix_training = Getpolymatrix(training_set[0],n); #get feature \n",
    "    X = np.array(Matrix_training)\n",
    "    Xt = np.transpose(np.array(Matrix_training))\n",
    "    Xty = np.matmul(Xt,training_set[1])\n",
    "    wCap = np.matmul(Xt,X)+lmda*np.identity(n)\n",
    "    Wfinal = np.linalg.solve(wCap, Xty)\n",
    "    #display(Wfinal)\n",
    "    MatrixTesting = Getpolymatrix(testing_set[0],n);#X data set in polynominal format\n",
    "    \n",
    "    final = np.inner(Wfinal,MatrixTesting)  #predicted data with the given weights\n",
    "    RMSE_testing[t] = 0.5*(sum((testing_set[1]-final)**2)/len(testing_set[1]))\n",
    "    \n",
    "    final_training = np.inner(Wfinal,Matrix_training) \n",
    "    RMSE_training[t] = 0.5*(sum((training_set[1]-final_training)**2)/len(training_set[1]))\n",
    "    t = t+1\n",
    "    \n",
    "#best result with n=13 but order is 12\n",
    "\n",
    "min_index=np.argmin(RMSE_testing)\n",
    "display(\"order for minimum RMSE\");\n",
    "display(min_index)\n",
    "display(\"minimum RMSE for testing\")\n",
    "display(RMSE_testing[min_index])\n",
    "\n",
    "n=min_index+1 \n",
    "Matrix_training=Getpolymatrix(training_set[0],n);\n",
    "X=np.array(Matrix_training)\n",
    "Xt=np.transpose(np.array(Matrix_training))\n",
    "Xty=np.matmul(Xt,training_set[1])\n",
    "#wCap=np.linalg.inv(np.matmul(Xt,X)+lmda*np.identity(n))\n",
    "#Wfinal=np.dot(wCap,Xty)\n",
    "#wCap = np.linalg.inv(np.matmul(Xt,X)+lmda*np.identity(n))\n",
    "wCap = np.matmul(Xt,X)+lmda*np.identity(n)\n",
    "Wfinal = np.linalg.solve(wCap, Xty)\n",
    "#Wfinal = np.dot(wCap,Xty)  #Woptimal\n",
    "\n",
    "MatrixTesting = Getpolymatrix(testing_set[0],n);#X data set in polynominal format\n",
    "Matrix =  Getpolymatrix(input_var,n);#\n",
    "final = np.inner(Wfinal,Matrix) \n",
    "final_testing=np.inner(Wfinal,MatrixTesting)  #predicted data with the given weights\n",
    "final_training=np.inner(Wfinal,Matrix_training) \n",
    "\n"
   ]
  },
  {
   "cell_type": "code",
   "execution_count": 5,
   "metadata": {},
   "outputs": [
    {
     "data": {
      "text/plain": [
       "'order for minimum RMSE'"
      ]
     },
     "metadata": {},
     "output_type": "display_data"
    },
    {
     "data": {
      "text/plain": [
       "21"
      ]
     },
     "metadata": {},
     "output_type": "display_data"
    },
    {
     "data": {
      "text/plain": [
       "'minimum RMSE for testing'"
      ]
     },
     "metadata": {},
     "output_type": "display_data"
    },
    {
     "data": {
      "text/plain": [
       "0.00048195691030945294"
      ]
     },
     "metadata": {},
     "output_type": "display_data"
    }
   ],
   "source": [
    "min_index=np.argmin(RMSE_training)\n",
    "display(\"order for minimum RMSE\");\n",
    "display(min_index)\n",
    "display(\"minimum RMSE for testing\")\n",
    "display(RMSE_training[min_index])"
   ]
  },
  {
   "cell_type": "code",
   "execution_count": 6,
   "metadata": {},
   "outputs": [
    {
     "data": {
      "text/plain": [
       "array([ 1.35642818,  0.40282846,  1.15274982,  0.34773667, -0.73716646,\n",
       "        0.2928817 ,  0.2179873 ,  0.68750841,  0.40282846,  0.05852343,\n",
       "        0.42506701, -0.48654465, -0.56190345,  0.6441787 ,  0.27916372,\n",
       "       -0.22315034,  0.06201018,  1.15090589,  0.48251517, -0.50497311])"
      ]
     },
     "execution_count": 6,
     "metadata": {},
     "output_type": "execute_result"
    }
   ],
   "source": [
    "final_training"
   ]
  },
  {
   "cell_type": "code",
   "execution_count": 7,
   "metadata": {},
   "outputs": [
    {
     "data": {
      "text/plain": [
       "array([ 1.360872  ,  0.37735483,  1.0485079 ,  0.46293536, -0.92192148,\n",
       "        0.31120067,  0.15119428,  0.77384743,  0.37735483,  0.17363519,\n",
       "        0.42304734, -0.4349667 , -0.57629434,  0.71635736,  0.22205865,\n",
       "       -0.16468948, -0.01989175,  1.1351331 ,  0.50176375, -0.46792218])"
      ]
     },
     "execution_count": 7,
     "metadata": {},
     "output_type": "execute_result"
    }
   ],
   "source": [
    "training_set[1]"
   ]
  },
  {
   "cell_type": "code",
   "execution_count": 8,
   "metadata": {
    "scrolled": true
   },
   "outputs": [
    {
     "data": {
      "image/png": "[encoded data removed]",
      "text/plain": [
       "<matplotlib.figure.Figure at 0x7701860>"
      ]
     },
     "metadata": {},
     "output_type": "display_data"
    },
    {
     "data": {
      "text/plain": [
       "<matplotlib.lines.Line2D at 0x77baba8>"
      ]
     },
     "execution_count": 8,
     "metadata": {},
     "output_type": "execute_result"
    }
   ],
   "source": [
    "\n",
    "order = np.argsort(dataset[0])\n",
    "xs = np.array(dataset[0])[order]\n",
    "ys = np.array(dataset[1])[order]\n",
    "\n",
    "plt.plot(xs,ys,'r',label=\"Ground Truth\")\n",
    "order1 = np.argsort(input_var)\n",
    "xs1 = np.array(input_var)[order1]\n",
    "ys1 = np.array(final)[order1]\n",
    "plt.plot(xs1,ys1,'g',label=\"Prediction\")\n",
    "plt.plot(training_set[0],training_set[1],'bo',markersize=4,fillstyle='none',label='training samples')\n",
    "plt.legend(loc='upper center')\n",
    "plt.title('Best Learned model Output with Order %i'%min_index)\n",
    "plt.ylabel('Joint trajectory')\n",
    "plt.xlabel('Input')\n",
    "plt.show()\n",
    "\n",
    "plt.plot(N-1,np.log(RMSE_testing),'ro',label=\"Testing set\")\n",
    "plt.plot(N-1,np.log(RMSE_training),'bo',label=\"Training set\")\n",
    "plt.plot(N-1,np.log(RMSE_testing),'r')\n",
    "plt.plot(N-1,np.log(RMSE_training),'b')\n",
    "plt.axvline(x=min_index, color='y',label='minima of RMSE testing')\n"
   ]
  },
  {
   "cell_type": "code",
   "execution_count": 9,
   "metadata": {},
   "outputs": [
    {
     "data": {
      "image/png": "[encoded data removed]",
      "text/plain": [
       "<matplotlib.figure.Figure at 0x7771780>"
      ]
     },
     "metadata": {},
     "output_type": "display_data"
    }
   ],
   "source": [
    "#plt.plot(N,RMSE_testing,'r',label=\"Testing set\")\n",
    "#plt.plot(N,RMSE_training,'b',label=\"Training set\")\n",
    "plt.ylabel('log(RMSE)')\n",
    "plt.xlabel('Order of polynomial')\n",
    "plt.legend(loc='upper center')\n",
    "plt.title(\"Plot of RMSE with order of polynomial\")\n",
    "plt.show()\n"
   ]
  },
  {
   "cell_type": "code",
   "execution_count": 10,
   "metadata": {},
   "outputs": [],
   "source": [
    "#####Gaussian Features#####\n",
    "\n",
    "def Getgaussmatrix(dataset,n): #n number of basis fn\n",
    "    Matrix = [[0 for x in range(n)] for y in range(len(dataset))]  #X data set in polynominal format\n",
    "    mu = np.linspace(0,2,n)\n",
    "    sigma2 = 0.02\n",
    "    #w=np.random.randn(10)\n",
    "    k = 0\n",
    "    for data in dataset:\n",
    "        temp = []\n",
    "        for i in range(n):\n",
    "            ep=np.exp((-(data-mu[i])**2)/(2*sigma2));\n",
    "            temp = np.append(temp,ep)\n",
    "        Matrix[k] = temp/sum(temp) #ensure normalization\n",
    "        k = k+1\n",
    "    return Matrix"
   ]
  },
  {
   "cell_type": "code",
   "execution_count": 11,
   "metadata": {
    "scrolled": false
   },
   "outputs": [],
   "source": [
    "###Gaussian features with different basis functions###\n",
    "\n",
    "Ng = np.arange(15,40+1, 1);\n",
    "lmda = 0.000001;\n",
    "RMSEGauss_testing=[0 for x in range(len(Ng))]\n",
    "RMSEGauss_training=[0 for x in range(len(Ng))]\n",
    "t=0;\n",
    "for n in Ng: #check for each model order    n=20\n",
    "    Matrix=Getgaussmatrix(training_set[0],n);\n",
    "    X=np.array(Matrix)\n",
    "    Xt=np.transpose(np.array(Matrix))\n",
    "    Xty=np.matmul(Xt,training_set[1])\n",
    "    #wCap=np.linalg.inv(np.matmul(Xt,X)+lmda*np.identity(n))\n",
    "    #Wfinal=np.dot(wCap,Xty)\n",
    "    wCap = np.matmul(Xt,X)+lmda*np.identity(n)\n",
    "    Wfinal = np.linalg.solve(wCap, Xty)\n",
    "    MatrixTesting = Getgaussmatrix(testing_set[0],n);#X data set in polynominal format\n",
    "    final=np.inner(Wfinal,MatrixTesting)  #predicted data with the given weights\n",
    "    RMSEGauss_testing[t]=0.5*(sum((testing_set[1]-final)**2)/len(testing_set[1]))\n",
    "    final_training=np.inner(Wfinal,Matrix) \n",
    "    RMSEGauss_training[t]=0.5*(sum((training_set[1]-final_training)**2)/len(training_set[1]))\n",
    "    t=t+1"
   ]
  },
  {
   "cell_type": "code",
   "execution_count": 12,
   "metadata": {},
   "outputs": [
    {
     "data": {
      "text/plain": [
       "'Minimum number of basis functions'"
      ]
     },
     "metadata": {},
     "output_type": "display_data"
    },
    {
     "data": {
      "text/plain": [
       "29"
      ]
     },
     "metadata": {},
     "output_type": "display_data"
    },
    {
     "data": {
      "text/plain": [
       "'RMSE for testing'"
      ]
     },
     "metadata": {},
     "output_type": "display_data"
    },
    {
     "data": {
      "text/plain": [
       "0.00011905164527102239"
      ]
     },
     "metadata": {},
     "output_type": "display_data"
    },
    {
     "data": {
      "image/png": "[encoded data removed]",
      "text/plain": [
       "<matplotlib.figure.Figure at 0x7722cc0>"
      ]
     },
     "metadata": {},
     "output_type": "display_data"
    }
   ],
   "source": [
    "\n",
    "min_index=np.argmin(RMSEGauss_testing)\n",
    "display(\"Minimum number of basis functions\")\n",
    "display(min_index+15)\n",
    "display(\"RMSE for testing\")\n",
    "display(RMSEGauss_testing[min_index])\n",
    "plt.plot(Ng,RMSEGauss_training,'b',label='Training')\n",
    "plt.plot(Ng,RMSEGauss_testing,'r',label='Testing')\n",
    "plt.plot(Ng,RMSEGauss_training,'bo')\n",
    "plt.plot(Ng,RMSEGauss_testing,'ro')\n",
    "plt.axvline(x=min_index+15, color='y',label='Minima of RMSE test')\n",
    "plt.ylabel('RMSE')\n",
    "plt.xlabel('Number of basis functions')\n",
    "plt.title(\"Plot of RMSE with number of basis function\")\n",
    "plt.legend(loc='upper right')\n",
    "plt.show()"
   ]
  }
 ],
 "metadata": {
  "kernelspec": {
   "display_name": "Python 3",
   "language": "python",
   "name": "python3"
  },
  "language_info": {
   "codemirror_mode": {
    "name": "ipython",
    "version": 3
   },
   "file_extension": ".py",
   "mimetype": "text/x-python",
   "name": "python",
   "nbconvert_exporter": "python",
   "pygments_lexer": "ipython3",
   "version": "3.5.2"
  }
 },
 "nbformat": 4,
 "nbformat_minor": 2
}
