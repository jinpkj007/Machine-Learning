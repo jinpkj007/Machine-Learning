{
 "cells": [
  {
   "cell_type": "code",
   "execution_count": 73,
   "metadata": {
    "scrolled": true
   },
   "outputs": [
    {
     "name": "stdout",
     "output_type": "stream",
     "text": [
      "Covariance matrix \n",
      "[[ 1.00671141 -0.11010327  0.87760486  0.82344326]\n",
      " [-0.11010327  1.00671141 -0.42333835 -0.358937  ]\n",
      " [ 0.87760486 -0.42333835  1.00671141  0.96921855]\n",
      " [ 0.82344326 -0.358937    0.96921855  1.00671141]]\n"
     ]
    },
    {
     "data": {
      "text/plain": [
       "array([[-9.00681170e-01,  1.03205722e+00, -1.34127240e+00,\n",
       "        -1.31297673e+00],\n",
       "       [-1.14301691e+00, -1.24957601e-01, -1.34127240e+00,\n",
       "        -1.31297673e+00],\n",
       "       [-1.38535265e+00,  3.37848329e-01, -1.39813811e+00,\n",
       "        -1.31297673e+00],\n",
       "       [-1.50652052e+00,  1.06445364e-01, -1.28440670e+00,\n",
       "        -1.31297673e+00],\n",
       "       [-1.02184904e+00,  1.26346019e+00, -1.34127240e+00,\n",
       "        -1.31297673e+00],\n",
       "       [-5.37177559e-01,  1.95766909e+00, -1.17067529e+00,\n",
       "        -1.05003079e+00],\n",
       "       [-1.50652052e+00,  8.00654259e-01, -1.34127240e+00,\n",
       "        -1.18150376e+00],\n",
       "       [-1.02184904e+00,  8.00654259e-01, -1.28440670e+00,\n",
       "        -1.31297673e+00],\n",
       "       [-1.74885626e+00, -3.56360566e-01, -1.34127240e+00,\n",
       "        -1.31297673e+00],\n",
       "       [-1.14301691e+00,  1.06445364e-01, -1.28440670e+00,\n",
       "        -1.44444970e+00],\n",
       "       [-5.37177559e-01,  1.49486315e+00, -1.28440670e+00,\n",
       "        -1.31297673e+00],\n",
       "       [-1.26418478e+00,  8.00654259e-01, -1.22754100e+00,\n",
       "        -1.31297673e+00],\n",
       "       [-1.26418478e+00, -1.24957601e-01, -1.34127240e+00,\n",
       "        -1.44444970e+00],\n",
       "       [-1.87002413e+00, -1.24957601e-01, -1.51186952e+00,\n",
       "        -1.44444970e+00],\n",
       "       [-5.25060772e-02,  2.18907205e+00, -1.45500381e+00,\n",
       "        -1.31297673e+00],\n",
       "       [-1.73673948e-01,  3.11468391e+00, -1.28440670e+00,\n",
       "        -1.05003079e+00],\n",
       "       [-5.37177559e-01,  1.95766909e+00, -1.39813811e+00,\n",
       "        -1.05003079e+00],\n",
       "       [-9.00681170e-01,  1.03205722e+00, -1.34127240e+00,\n",
       "        -1.18150376e+00],\n",
       "       [-1.73673948e-01,  1.72626612e+00, -1.17067529e+00,\n",
       "        -1.18150376e+00],\n",
       "       [-9.00681170e-01,  1.72626612e+00, -1.28440670e+00,\n",
       "        -1.18150376e+00],\n",
       "       [-5.37177559e-01,  8.00654259e-01, -1.17067529e+00,\n",
       "        -1.31297673e+00],\n",
       "       [-9.00681170e-01,  1.49486315e+00, -1.28440670e+00,\n",
       "        -1.05003079e+00],\n",
       "       [-1.50652052e+00,  1.26346019e+00, -1.56873522e+00,\n",
       "        -1.31297673e+00],\n",
       "       [-9.00681170e-01,  5.69251294e-01, -1.17067529e+00,\n",
       "        -9.18557817e-01],\n",
       "       [-1.26418478e+00,  8.00654259e-01, -1.05694388e+00,\n",
       "        -1.31297673e+00],\n",
       "       [-1.02184904e+00, -1.24957601e-01, -1.22754100e+00,\n",
       "        -1.31297673e+00],\n",
       "       [-1.02184904e+00,  8.00654259e-01, -1.22754100e+00,\n",
       "        -1.05003079e+00],\n",
       "       [-7.79513300e-01,  1.03205722e+00, -1.28440670e+00,\n",
       "        -1.31297673e+00],\n",
       "       [-7.79513300e-01,  8.00654259e-01, -1.34127240e+00,\n",
       "        -1.31297673e+00],\n",
       "       [-1.38535265e+00,  3.37848329e-01, -1.22754100e+00,\n",
       "        -1.31297673e+00],\n",
       "       [-1.26418478e+00,  1.06445364e-01, -1.22754100e+00,\n",
       "        -1.31297673e+00],\n",
       "       [-5.37177559e-01,  8.00654259e-01, -1.28440670e+00,\n",
       "        -1.05003079e+00],\n",
       "       [-7.79513300e-01,  2.42047502e+00, -1.28440670e+00,\n",
       "        -1.44444970e+00],\n",
       "       [-4.16009689e-01,  2.65187798e+00, -1.34127240e+00,\n",
       "        -1.31297673e+00],\n",
       "       [-1.14301691e+00,  1.06445364e-01, -1.28440670e+00,\n",
       "        -1.44444970e+00],\n",
       "       [-1.02184904e+00,  3.37848329e-01, -1.45500381e+00,\n",
       "        -1.31297673e+00],\n",
       "       [-4.16009689e-01,  1.03205722e+00, -1.39813811e+00,\n",
       "        -1.31297673e+00],\n",
       "       [-1.14301691e+00,  1.06445364e-01, -1.28440670e+00,\n",
       "        -1.44444970e+00],\n",
       "       [-1.74885626e+00, -1.24957601e-01, -1.39813811e+00,\n",
       "        -1.31297673e+00],\n",
       "       [-9.00681170e-01,  8.00654259e-01, -1.28440670e+00,\n",
       "        -1.31297673e+00],\n",
       "       [-1.02184904e+00,  1.03205722e+00, -1.39813811e+00,\n",
       "        -1.18150376e+00],\n",
       "       [-1.62768839e+00, -1.74477836e+00, -1.39813811e+00,\n",
       "        -1.18150376e+00],\n",
       "       [-1.74885626e+00,  3.37848329e-01, -1.39813811e+00,\n",
       "        -1.31297673e+00],\n",
       "       [-1.02184904e+00,  1.03205722e+00, -1.22754100e+00,\n",
       "        -7.87084847e-01],\n",
       "       [-9.00681170e-01,  1.72626612e+00, -1.05694388e+00,\n",
       "        -1.05003079e+00],\n",
       "       [-1.26418478e+00, -1.24957601e-01, -1.34127240e+00,\n",
       "        -1.18150376e+00],\n",
       "       [-9.00681170e-01,  1.72626612e+00, -1.22754100e+00,\n",
       "        -1.31297673e+00],\n",
       "       [-1.50652052e+00,  3.37848329e-01, -1.34127240e+00,\n",
       "        -1.31297673e+00],\n",
       "       [-6.58345429e-01,  1.49486315e+00, -1.28440670e+00,\n",
       "        -1.31297673e+00],\n",
       "       [-1.02184904e+00,  5.69251294e-01, -1.34127240e+00,\n",
       "        -1.31297673e+00],\n",
       "       [ 1.40150837e+00,  3.37848329e-01,  5.35295827e-01,\n",
       "         2.64698913e-01],\n",
       "       [ 6.74501145e-01,  3.37848329e-01,  4.21564419e-01,\n",
       "         3.96171883e-01],\n",
       "       [ 1.28034050e+00,  1.06445364e-01,  6.49027235e-01,\n",
       "         3.96171883e-01],\n",
       "       [-4.16009689e-01, -1.74477836e+00,  1.37235899e-01,\n",
       "         1.33225943e-01],\n",
       "       [ 7.95669016e-01, -5.87763531e-01,  4.78430123e-01,\n",
       "         3.96171883e-01],\n",
       "       [-1.73673948e-01, -5.87763531e-01,  4.21564419e-01,\n",
       "         1.33225943e-01],\n",
       "       [ 5.53333275e-01,  5.69251294e-01,  5.35295827e-01,\n",
       "         5.27644853e-01],\n",
       "       [-1.14301691e+00, -1.51337539e+00, -2.60824029e-01,\n",
       "        -2.61192967e-01],\n",
       "       [ 9.16836886e-01, -3.56360566e-01,  4.78430123e-01,\n",
       "         1.33225943e-01],\n",
       "       [-7.79513300e-01, -8.19166497e-01,  8.03701950e-02,\n",
       "         2.64698913e-01],\n",
       "       [-1.02184904e+00, -2.43898725e+00, -1.47092621e-01,\n",
       "        -2.61192967e-01],\n",
       "       [ 6.86617933e-02, -1.24957601e-01,  2.50967307e-01,\n",
       "         3.96171883e-01],\n",
       "       [ 1.89829664e-01, -1.97618132e+00,  1.37235899e-01,\n",
       "        -2.61192967e-01],\n",
       "       [ 3.10997534e-01, -3.56360566e-01,  5.35295827e-01,\n",
       "         2.64698913e-01],\n",
       "       [-2.94841818e-01, -3.56360566e-01, -9.02269170e-02,\n",
       "         1.33225943e-01],\n",
       "       [ 1.03800476e+00,  1.06445364e-01,  3.64698715e-01,\n",
       "         2.64698913e-01],\n",
       "       [-2.94841818e-01, -1.24957601e-01,  4.21564419e-01,\n",
       "         3.96171883e-01],\n",
       "       [-5.25060772e-02, -8.19166497e-01,  1.94101603e-01,\n",
       "        -2.61192967e-01],\n",
       "       [ 4.32165405e-01, -1.97618132e+00,  4.21564419e-01,\n",
       "         3.96171883e-01],\n",
       "       [-2.94841818e-01, -1.28197243e+00,  8.03701950e-02,\n",
       "        -1.29719997e-01],\n",
       "       [ 6.86617933e-02,  3.37848329e-01,  5.92161531e-01,\n",
       "         7.90590793e-01],\n",
       "       [ 3.10997534e-01, -5.87763531e-01,  1.37235899e-01,\n",
       "         1.33225943e-01],\n",
       "       [ 5.53333275e-01, -1.28197243e+00,  6.49027235e-01,\n",
       "         3.96171883e-01],\n",
       "       [ 3.10997534e-01, -5.87763531e-01,  5.35295827e-01,\n",
       "         1.75297293e-03],\n",
       "       [ 6.74501145e-01, -3.56360566e-01,  3.07833011e-01,\n",
       "         1.33225943e-01],\n",
       "       [ 9.16836886e-01, -1.24957601e-01,  3.64698715e-01,\n",
       "         2.64698913e-01],\n",
       "       [ 1.15917263e+00, -5.87763531e-01,  5.92161531e-01,\n",
       "         2.64698913e-01],\n",
       "       [ 1.03800476e+00, -1.24957601e-01,  7.05892939e-01,\n",
       "         6.59117823e-01],\n",
       "       [ 1.89829664e-01, -3.56360566e-01,  4.21564419e-01,\n",
       "         3.96171883e-01],\n",
       "       [-1.73673948e-01, -1.05056946e+00, -1.47092621e-01,\n",
       "        -2.61192967e-01],\n",
       "       [-4.16009689e-01, -1.51337539e+00,  2.35044910e-02,\n",
       "        -1.29719997e-01],\n",
       "       [-4.16009689e-01, -1.51337539e+00, -3.33612130e-02,\n",
       "        -2.61192967e-01],\n",
       "       [-5.25060772e-02, -8.19166497e-01,  8.03701950e-02,\n",
       "         1.75297293e-03],\n",
       "       [ 1.89829664e-01, -8.19166497e-01,  7.62758643e-01,\n",
       "         5.27644853e-01],\n",
       "       [-5.37177559e-01, -1.24957601e-01,  4.21564419e-01,\n",
       "         3.96171883e-01],\n",
       "       [ 1.89829664e-01,  8.00654259e-01,  4.21564419e-01,\n",
       "         5.27644853e-01],\n",
       "       [ 1.03800476e+00,  1.06445364e-01,  5.35295827e-01,\n",
       "         3.96171883e-01],\n",
       "       [ 5.53333275e-01, -1.74477836e+00,  3.64698715e-01,\n",
       "         1.33225943e-01],\n",
       "       [-2.94841818e-01, -1.24957601e-01,  1.94101603e-01,\n",
       "         1.33225943e-01],\n",
       "       [-4.16009689e-01, -1.28197243e+00,  1.37235899e-01,\n",
       "         1.33225943e-01],\n",
       "       [-4.16009689e-01, -1.05056946e+00,  3.64698715e-01,\n",
       "         1.75297293e-03],\n",
       "       [ 3.10997534e-01, -1.24957601e-01,  4.78430123e-01,\n",
       "         2.64698913e-01],\n",
       "       [-5.25060772e-02, -1.05056946e+00,  1.37235899e-01,\n",
       "         1.75297293e-03],\n",
       "       [-1.02184904e+00, -1.74477836e+00, -2.60824029e-01,\n",
       "        -2.61192967e-01],\n",
       "       [-2.94841818e-01, -8.19166497e-01,  2.50967307e-01,\n",
       "         1.33225943e-01],\n",
       "       [-1.73673948e-01, -1.24957601e-01,  2.50967307e-01,\n",
       "         1.75297293e-03],\n",
       "       [-1.73673948e-01, -3.56360566e-01,  2.50967307e-01,\n",
       "         1.33225943e-01],\n",
       "       [ 4.32165405e-01, -3.56360566e-01,  3.07833011e-01,\n",
       "         1.33225943e-01],\n",
       "       [-9.00681170e-01, -1.28197243e+00, -4.31421141e-01,\n",
       "        -1.29719997e-01],\n",
       "       [-1.73673948e-01, -5.87763531e-01,  1.94101603e-01,\n",
       "         1.33225943e-01],\n",
       "       [ 5.53333275e-01,  5.69251294e-01,  1.27454998e+00,\n",
       "         1.71090158e+00],\n",
       "       [-5.25060772e-02, -8.19166497e-01,  7.62758643e-01,\n",
       "         9.22063763e-01],\n",
       "       [ 1.52267624e+00, -1.24957601e-01,  1.21768427e+00,\n",
       "         1.18500970e+00],\n",
       "       [ 5.53333275e-01, -3.56360566e-01,  1.04708716e+00,\n",
       "         7.90590793e-01],\n",
       "       [ 7.95669016e-01, -1.24957601e-01,  1.16081857e+00,\n",
       "         1.31648267e+00],\n",
       "       [ 2.12851559e+00, -1.24957601e-01,  1.61574420e+00,\n",
       "         1.18500970e+00],\n",
       "       [-1.14301691e+00, -1.28197243e+00,  4.21564419e-01,\n",
       "         6.59117823e-01],\n",
       "       [ 1.76501198e+00, -3.56360566e-01,  1.44514709e+00,\n",
       "         7.90590793e-01],\n",
       "       [ 1.03800476e+00, -1.28197243e+00,  1.16081857e+00,\n",
       "         7.90590793e-01],\n",
       "       [ 1.64384411e+00,  1.26346019e+00,  1.33141568e+00,\n",
       "         1.71090158e+00],\n",
       "       [ 7.95669016e-01,  3.37848329e-01,  7.62758643e-01,\n",
       "         1.05353673e+00],\n",
       "       [ 6.74501145e-01, -8.19166497e-01,  8.76490051e-01,\n",
       "         9.22063763e-01],\n",
       "       [ 1.15917263e+00, -1.24957601e-01,  9.90221459e-01,\n",
       "         1.18500970e+00],\n",
       "       [-1.73673948e-01, -1.28197243e+00,  7.05892939e-01,\n",
       "         1.05353673e+00],\n",
       "       [-5.25060772e-02, -5.87763531e-01,  7.62758643e-01,\n",
       "         1.57942861e+00],\n",
       "       [ 6.74501145e-01,  3.37848329e-01,  8.76490051e-01,\n",
       "         1.44795564e+00],\n",
       "       [ 7.95669016e-01, -1.24957601e-01,  9.90221459e-01,\n",
       "         7.90590793e-01],\n",
       "       [ 2.24968346e+00,  1.72626612e+00,  1.67260991e+00,\n",
       "         1.31648267e+00],\n",
       "       [ 2.24968346e+00, -1.05056946e+00,  1.78634131e+00,\n",
       "         1.44795564e+00],\n",
       "       [ 1.89829664e-01, -1.97618132e+00,  7.05892939e-01,\n",
       "         3.96171883e-01],\n",
       "       [ 1.28034050e+00,  3.37848329e-01,  1.10395287e+00,\n",
       "         1.44795564e+00],\n",
       "       [-2.94841818e-01, -5.87763531e-01,  6.49027235e-01,\n",
       "         1.05353673e+00],\n",
       "       [ 2.24968346e+00, -5.87763531e-01,  1.67260991e+00,\n",
       "         1.05353673e+00],\n",
       "       [ 5.53333275e-01, -8.19166497e-01,  6.49027235e-01,\n",
       "         7.90590793e-01],\n",
       "       [ 1.03800476e+00,  5.69251294e-01,  1.10395287e+00,\n",
       "         1.18500970e+00],\n",
       "       [ 1.64384411e+00,  3.37848329e-01,  1.27454998e+00,\n",
       "         7.90590793e-01],\n",
       "       [ 4.32165405e-01, -5.87763531e-01,  5.92161531e-01,\n",
       "         7.90590793e-01],\n",
       "       [ 3.10997534e-01, -1.24957601e-01,  6.49027235e-01,\n",
       "         7.90590793e-01],\n",
       "       [ 6.74501145e-01, -5.87763531e-01,  1.04708716e+00,\n",
       "         1.18500970e+00],\n",
       "       [ 1.64384411e+00, -1.24957601e-01,  1.16081857e+00,\n",
       "         5.27644853e-01],\n",
       "       [ 1.88617985e+00, -5.87763531e-01,  1.33141568e+00,\n",
       "         9.22063763e-01],\n",
       "       [ 2.49201920e+00,  1.72626612e+00,  1.50201279e+00,\n",
       "         1.05353673e+00],\n",
       "       [ 6.74501145e-01, -5.87763531e-01,  1.04708716e+00,\n",
       "         1.31648267e+00],\n",
       "       [ 5.53333275e-01, -5.87763531e-01,  7.62758643e-01,\n",
       "         3.96171883e-01],\n",
       "       [ 3.10997534e-01, -1.05056946e+00,  1.04708716e+00,\n",
       "         2.64698913e-01],\n",
       "       [ 2.24968346e+00, -1.24957601e-01,  1.33141568e+00,\n",
       "         1.44795564e+00],\n",
       "       [ 5.53333275e-01,  8.00654259e-01,  1.04708716e+00,\n",
       "         1.57942861e+00],\n",
       "       [ 6.74501145e-01,  1.06445364e-01,  9.90221459e-01,\n",
       "         7.90590793e-01],\n",
       "       [ 1.89829664e-01, -1.24957601e-01,  5.92161531e-01,\n",
       "         7.90590793e-01],\n",
       "       [ 1.28034050e+00,  1.06445364e-01,  9.33355755e-01,\n",
       "         1.18500970e+00],\n",
       "       [ 1.03800476e+00,  1.06445364e-01,  1.04708716e+00,\n",
       "         1.57942861e+00],\n",
       "       [ 1.28034050e+00,  1.06445364e-01,  7.62758643e-01,\n",
       "         1.44795564e+00],\n",
       "       [-5.25060772e-02, -8.19166497e-01,  7.62758643e-01,\n",
       "         9.22063763e-01],\n",
       "       [ 1.15917263e+00,  3.37848329e-01,  1.21768427e+00,\n",
       "         1.44795564e+00],\n",
       "       [ 1.03800476e+00,  5.69251294e-01,  1.10395287e+00,\n",
       "         1.71090158e+00],\n",
       "       [ 1.03800476e+00, -1.24957601e-01,  8.19624347e-01,\n",
       "         1.44795564e+00],\n",
       "       [ 5.53333275e-01, -1.28197243e+00,  7.05892939e-01,\n",
       "         9.22063763e-01],\n",
       "       [ 7.95669016e-01, -1.24957601e-01,  8.19624347e-01,\n",
       "         1.05353673e+00],\n",
       "       [ 4.32165405e-01,  8.00654259e-01,  9.33355755e-01,\n",
       "         1.44795564e+00],\n",
       "       [ 6.86617933e-02, -1.24957601e-01,  7.62758643e-01,\n",
       "         7.90590793e-01]])"
      ]
     },
     "metadata": {},
     "output_type": "display_data"
    }
   ],
   "source": [
    "### Developed by Prabhash Kumar Jha and Isheeta Jha ###\n",
    "\n",
    "import numpy as np\n",
    "import matplotlib.pyplot as plt\n",
    "\n",
    "\n",
    "file = open(\"iris.txt\",\"r\")\n",
    "\n",
    "sepal_length=[]\n",
    "sepal_width=[]\n",
    "petal_length=[]\n",
    "petal_width=[]\n",
    "label=[]\n",
    "\n",
    "#Repeat for each song in the text file\n",
    "for line in file:\n",
    "  \n",
    "  #Let's split the line into an array called \"fields\" using the \",\" as a separator:\n",
    "    fields = line.split(\",\")\n",
    "  \n",
    "  #and let's extract the data:\n",
    "    sepal_length= np.append(sepal_length,float(fields[0]))\n",
    "    sepal_width=np.append(sepal_width,float(fields[1]))\n",
    "    petal_length=np.append(petal_length,float(fields[2]))\n",
    "    petal_width=np.append(petal_width,float(fields[3]))\n",
    "    label=np.append(label,float(fields[4]))\n",
    "\n",
    "file.close()\n",
    "\n",
    "sepal_length=(sepal_length-np.mean(sepal_length))/np.std(sepal_length)  # normalise to make mean zero and variance unit\n",
    "sepal_width=(sepal_width-np.mean(sepal_width))/np.std(sepal_width)\n",
    "petal_length=(petal_length-np.mean(petal_length))/np.std(petal_length)\n",
    "petal_width=(petal_width-np.mean(petal_width))/np.std(petal_width)\n",
    "\n",
    "sepal=[sepal_length,sepal_width,petal_length,petal_width]  ##array of array with all nomalised data\n",
    "\n",
    "\n",
    "X=np.vstack(( sepal_length,sepal_width,petal_length,petal_width ))\n",
    "# we need all feature of one flower in one colum so we need to transpose the matrix\n",
    "X=X.T\n",
    "\n",
    "## X arrangement    row1= feature1 row2= feature 2 and so on\n",
    "\n",
    "mean = np.mean(X, axis=0)\n",
    "cov = (X - mean).T.dot((X - mean)) / (X.shape[0]-1)\n",
    "print('Covariance matrix \\n%s' %cov)\n",
    "\n",
    "\n",
    "\n",
    "eigen_values, eigen_vectors=np.linalg.eig(cov)\n",
    "display(X)\n",
    "\n"
   ]
  },
  {
   "cell_type": "code",
   "execution_count": 143,
   "metadata": {},
   "outputs": [
    {
     "data": {
      "text/plain": [
       "Text(0.5,1,'Percentage Variance of Various Principal Components')"
      ]
     },
     "execution_count": 143,
     "metadata": {},
     "output_type": "execute_result"
    },
    {
     "data": {
      "image/png": "[encoded data removed]",
      "text/plain": [
       "<Figure size 432x288 with 1 Axes>"
      ]
     },
     "metadata": {},
     "output_type": "display_data"
    }
   ],
   "source": [
    "\n",
    "eigen_values=eigen_values/np.sum(eigen_values)\n",
    "eigen_values=eigen_values*100\n",
    "N = len(eigen_values)\n",
    "x = range(N)\n",
    "width = 1/1.5\n",
    "plt.bar(x, eigen_values, width, color=\"blue\")\n",
    "#ax.set_xticklabels(['PC1', 'PC2', 'PC3','PC4'])\n",
    "plt.ylabel('Variance in percentage')\n",
    "plt.grid(True, which='both') \n",
    "plt.xticks(x,['PC1', 'PC2', 'PC3','PC4'])\n",
    "plt.title(\"Percentage Variance of Various Principal Components\")\n",
    "## 2 dimensions required\n",
    "\n"
   ]
  },
  {
   "cell_type": "code",
   "execution_count": 170,
   "metadata": {
    "scrolled": false
   },
   "outputs": [],
   "source": [
    "low_dim =eigen_vectors[:,[0,1]]  ## get the first two dimensions\n"
   ]
  },
  {
   "cell_type": "code",
   "execution_count": 171,
   "metadata": {},
   "outputs": [
    {
     "data": {
      "text/plain": [
       "array([[-2.26454173e+00, -5.05703903e-01],\n",
       "       [-2.08642550e+00,  6.55404729e-01],\n",
       "       [-2.36795045e+00,  3.18477311e-01],\n",
       "       [-2.30419716e+00,  5.75367713e-01],\n",
       "       [-2.38877749e+00, -6.74767397e-01],\n",
       "       [-2.07053681e+00, -1.51854856e+00],\n",
       "       [-2.44571134e+00, -7.45626750e-02],\n",
       "       [-2.23384186e+00, -2.47613932e-01],\n",
       "       [-2.34195768e+00,  1.09514636e+00],\n",
       "       [-2.18867576e+00,  4.48629048e-01],\n",
       "       [-2.16348656e+00, -1.07059558e+00],\n",
       "       [-2.32737775e+00, -1.58587455e-01],\n",
       "       [-2.22408272e+00,  7.09118158e-01],\n",
       "       [-2.63971626e+00,  9.38281982e-01],\n",
       "       [-2.19229151e+00, -1.88997851e+00],\n",
       "       [-2.25146521e+00, -2.72237108e+00],\n",
       "       [-2.20275048e+00, -1.51375028e+00],\n",
       "       [-2.19017916e+00, -5.14304308e-01],\n",
       "       [-1.89407429e+00, -1.43111071e+00],\n",
       "       [-2.33994907e+00, -1.15803343e+00],\n",
       "       [-1.91455639e+00, -4.30465163e-01],\n",
       "       [-2.20464540e+00, -9.52457317e-01],\n",
       "       [-2.77416979e+00, -4.89517027e-01],\n",
       "       [-1.82041156e+00, -1.06750793e-01],\n",
       "       [-2.22821750e+00, -1.62186163e-01],\n",
       "       [-1.95702401e+00,  6.07892567e-01],\n",
       "       [-2.05206331e+00, -2.66014312e-01],\n",
       "       [-2.16819365e+00, -5.52016495e-01],\n",
       "       [-2.14030596e+00, -3.36640409e-01],\n",
       "       [-2.26879019e+00,  3.14878603e-01],\n",
       "       [-2.14455443e+00,  4.83942097e-01],\n",
       "       [-1.83193810e+00, -4.45266836e-01],\n",
       "       [-2.60820287e+00, -1.82847519e+00],\n",
       "       [-2.43795086e+00, -2.18539162e+00],\n",
       "       [-2.18867576e+00,  4.48629048e-01],\n",
       "       [-2.21111990e+00,  1.84337811e-01],\n",
       "       [-2.04441652e+00, -6.84956426e-01],\n",
       "       [-2.18867576e+00,  4.48629048e-01],\n",
       "       [-2.43595220e+00,  8.82169415e-01],\n",
       "       [-2.17054720e+00, -2.92726955e-01],\n",
       "       [-2.28652724e+00, -4.67991716e-01],\n",
       "       [-1.87170722e+00,  2.32769161e+00],\n",
       "       [-2.55783442e+00,  4.53816380e-01],\n",
       "       [-1.96427929e+00, -4.97391640e-01],\n",
       "       [-2.13337283e+00, -1.17143211e+00],\n",
       "       [-2.07535759e+00,  6.91917347e-01],\n",
       "       [-2.38125822e+00, -1.15063259e+00],\n",
       "       [-2.39819169e+00,  3.62390765e-01],\n",
       "       [-2.22678121e+00, -1.02548255e+00],\n",
       "       [-2.20595417e+00, -3.22378453e-02],\n",
       "       [ 1.10399365e+00, -8.63112446e-01],\n",
       "       [ 7.32481440e-01, -5.98635573e-01],\n",
       "       [ 1.24210951e+00, -6.14822450e-01],\n",
       "       [ 3.97307283e-01,  1.75816895e+00],\n",
       "       [ 1.07259395e+00,  2.11757903e-01],\n",
       "       [ 3.84458146e-01,  5.91062469e-01],\n",
       "       [ 7.48715076e-01, -7.78698611e-01],\n",
       "       [-4.97863388e-01,  1.84886877e+00],\n",
       "       [ 9.26222368e-01, -3.03308268e-02],\n",
       "       [ 4.96802558e-03,  1.02940111e+00],\n",
       "       [-1.24697461e-01,  2.65806268e+00],\n",
       "       [ 4.38730118e-01,  5.88812850e-02],\n",
       "       [ 5.51633981e-01,  1.77258156e+00],\n",
       "       [ 7.17165066e-01,  1.85434315e-01],\n",
       "       [-3.72583830e-02,  4.32795099e-01],\n",
       "       [ 8.75890536e-01, -5.09998151e-01],\n",
       "       [ 3.48006402e-01,  1.90621647e-01],\n",
       "       [ 1.53392545e-01,  7.90725456e-01],\n",
       "       [ 1.21530321e+00,  1.63335564e+00],\n",
       "       [ 1.56941176e-01,  1.30310327e+00],\n",
       "       [ 7.38256104e-01, -4.02470382e-01],\n",
       "       [ 4.72369682e-01,  4.16608222e-01],\n",
       "       [ 1.22798821e+00,  9.40914793e-01],\n",
       "       [ 6.29381045e-01,  4.16811643e-01],\n",
       "       [ 7.00472799e-01,  6.34939277e-02],\n",
       "       [ 8.73536987e-01, -2.50708611e-01],\n",
       "       [ 1.25422219e+00,  8.26200998e-02],\n",
       "       [ 1.35823985e+00, -3.28820266e-01],\n",
       "       [ 6.62126138e-01,  2.24346071e-01],\n",
       "       [-4.72815133e-02,  1.05721241e+00],\n",
       "       [ 1.21534209e-01,  1.56359238e+00],\n",
       "       [ 1.41182261e-02,  1.57339235e+00],\n",
       "       [ 2.36010837e-01,  7.75923784e-01],\n",
       "       [ 1.05669143e+00,  6.36901284e-01],\n",
       "       [ 2.21417088e-01,  2.80847693e-01],\n",
       "       [ 4.31783161e-01, -8.55136920e-01],\n",
       "       [ 1.04941336e+00, -5.22197265e-01],\n",
       "       [ 1.03587821e+00,  1.39246648e+00],\n",
       "       [ 6.70675999e-02,  2.12620735e-01],\n",
       "       [ 2.75425066e-01,  1.32981591e+00],\n",
       "       [ 2.72335066e-01,  1.11944152e+00],\n",
       "       [ 6.23170540e-01, -2.75426333e-02],\n",
       "       [ 3.30005364e-01,  9.88900732e-01],\n",
       "       [-3.73627623e-01,  2.01793227e+00],\n",
       "       [ 2.82944343e-01,  8.53950717e-01],\n",
       "       [ 8.90531103e-02,  1.74908548e-01],\n",
       "       [ 2.24356783e-01,  3.80484659e-01],\n",
       "       [ 5.73883486e-01,  1.53719974e-01],\n",
       "       [-4.57012873e-01,  1.53946451e+00],\n",
       "       [ 2.52244473e-01,  5.95860746e-01],\n",
       "       [ 1.84767259e+00, -8.71696662e-01],\n",
       "       [ 1.15318981e+00,  7.01326114e-01],\n",
       "       [ 2.20634950e+00, -5.54470105e-01],\n",
       "       [ 1.43868540e+00,  5.00105223e-02],\n",
       "       [ 1.86789070e+00, -2.91192802e-01],\n",
       "       [ 2.75419671e+00, -7.88432206e-01],\n",
       "       [ 3.58374475e-01,  1.56009458e+00],\n",
       "       [ 2.30300590e+00, -4.09516695e-01],\n",
       "       [ 2.00173530e+00,  7.23865359e-01],\n",
       "       [ 2.26755460e+00, -1.92144299e+00],\n",
       "       [ 1.36590943e+00, -6.93948040e-01],\n",
       "       [ 1.59906459e+00,  4.28248836e-01],\n",
       "       [ 1.88425185e+00, -4.14332758e-01],\n",
       "       [ 1.25308651e+00,  1.16739134e+00],\n",
       "       [ 1.46406152e+00,  4.44147569e-01],\n",
       "       [ 1.59180930e+00, -6.77035372e-01],\n",
       "       [ 1.47128019e+00, -2.53192472e-01],\n",
       "       [ 2.43737848e+00, -2.55675734e+00],\n",
       "       [ 3.30914118e+00,  2.36132010e-03],\n",
       "       [ 1.25398099e+00,  1.71758384e+00],\n",
       "       [ 2.04049626e+00, -9.07398765e-01],\n",
       "       [ 9.73915114e-01,  5.71174376e-01],\n",
       "       [ 2.89806444e+00, -3.97791359e-01],\n",
       "       [ 1.32919369e+00,  4.86760542e-01],\n",
       "       [ 1.70424071e+00, -1.01414842e+00],\n",
       "       [ 1.95772766e+00, -1.00333452e+00],\n",
       "       [ 1.17190451e+00,  3.18896617e-01],\n",
       "       [ 1.01978105e+00, -6.55429631e-02],\n",
       "       [ 1.78600886e+00,  1.93272800e-01],\n",
       "       [ 1.86477791e+00, -5.55381532e-01],\n",
       "       [ 2.43549739e+00, -2.46654468e-01],\n",
       "       [ 2.31608241e+00, -2.62618387e+00],\n",
       "       [ 1.86037143e+00,  1.84672394e-01],\n",
       "       [ 1.11127173e+00,  2.95986102e-01],\n",
       "       [ 1.19746916e+00,  8.17167742e-01],\n",
       "       [ 2.80094940e+00, -8.44748194e-01],\n",
       "       [ 1.58015525e+00, -1.07247450e+00],\n",
       "       [ 1.34704442e+00, -4.22255966e-01],\n",
       "       [ 9.23432978e-01, -1.92303705e-02],\n",
       "       [ 1.85355198e+00, -6.72422729e-01],\n",
       "       [ 2.01615720e+00, -6.10397038e-01],\n",
       "       [ 1.90311686e+00, -6.86024832e-01],\n",
       "       [ 1.15318981e+00,  7.01326114e-01],\n",
       "       [ 2.04330844e+00, -8.64684880e-01],\n",
       "       [ 2.00169097e+00, -1.04855005e+00],\n",
       "       [ 1.87052207e+00, -3.82821838e-01],\n",
       "       [ 1.55849189e+00,  9.05313601e-01],\n",
       "       [ 1.52084506e+00, -2.66794575e-01],\n",
       "       [ 1.37639119e+00, -1.01636193e+00],\n",
       "       [ 9.59298576e-01,  2.22839447e-02]])"
      ]
     },
     "execution_count": 171,
     "metadata": {},
     "output_type": "execute_result"
    }
   ],
   "source": [
    "projection = X.dot(low_dim)\n",
    "projection"
   ]
  },
  {
   "cell_type": "code",
   "execution_count": 172,
   "metadata": {},
   "outputs": [
    {
     "name": "stderr",
     "output_type": "stream",
     "text": [
      "No handles with labels found to put in legend.\n"
     ]
    },
    {
     "data": {
      "text/plain": [
       "<matplotlib.legend.Legend at 0x129d32e8>"
      ]
     },
     "execution_count": 172,
     "metadata": {},
     "output_type": "execute_result"
    },
    {
     "data": {
      "image/png": "[encoded data removed]",
      "text/plain": [
       "<Figure size 432x288 with 1 Axes>"
      ]
     },
     "metadata": {},
     "output_type": "display_data"
    }
   ],
   "source": [
    "colors = ['red', 'blue', 'green']\n",
    "import matplotlib.patches as mpatches\n",
    "\n",
    "\n",
    "\n",
    "for i in range(150):\n",
    "      plt.scatter( x=projection[i,0],y=projection[i,1],c=colors[int(label[i])])\n",
    "     \n",
    "        \n",
    "plt.grid(True, which='both')        \n",
    "plt.axhline(y=0, color='k')\n",
    "plt.axvline(x=0, color='k')  \n",
    "plt.title(\"Scatter Plot of Projected points\")\n",
    "plt.xlabel(\"PC1\")\n",
    "plt.ylabel(\"PC2\")\n",
    "plt.legend()\n",
    "\n",
    "colors = [\"b\", \"r\",\"g\"]\n",
    "texts = [\"Setosa\", \"Versicolor\", \"Virginica \"]\n",
    "patches = [ plt.plot([],[], marker=\"o\", ms=10, ls=\"\", mec=None, color=colors[i], \n",
    "            label=\"{:s}\".format(texts[i]) )[0]  for i in range(len(texts)) ]\n",
    "plt.legend(handles=patches, bbox_to_anchor=(.5, -0.2), \n",
    "           loc='center', ncol=3, facecolor=\"plum\", numpoints=1 )\n",
    "\n"
   ]
  },
  {
   "cell_type": "code",
   "execution_count": 173,
   "metadata": {},
   "outputs": [
    {
     "data": {
      "text/plain": [
       "0.10397936254433657"
      ]
     },
     "metadata": {},
     "output_type": "display_data"
    },
    {
     "data": {
      "text/plain": [
       "0.16086195802504247"
      ]
     },
     "metadata": {},
     "output_type": "display_data"
    },
    {
     "data": {
      "text/plain": [
       "0.03835783289625219"
      ]
     },
     "metadata": {},
     "output_type": "display_data"
    },
    {
     "data": {
      "text/plain": [
       "0.08311764930833636"
      ]
     },
     "metadata": {},
     "output_type": "display_data"
    },
    {
     "data": {
      "text/plain": [
       "0.06403369013562482"
      ]
     },
     "metadata": {},
     "output_type": "display_data"
    },
    {
     "data": {
      "text/plain": [
       "0.017034097251625573"
      ]
     },
     "metadata": {},
     "output_type": "display_data"
    },
    {
     "data": {
      "text/plain": [
       "0.03788015252831201"
      ]
     },
     "metadata": {},
     "output_type": "display_data"
    },
    {
     "data": {
      "text/plain": [
       "0.080700682028687"
      ]
     },
     "metadata": {},
     "output_type": "display_data"
    },
    {
     "data": {
      "text/plain": [
       "0.008622214802836009"
      ]
     },
     "metadata": {},
     "output_type": "display_data"
    },
    {
     "data": {
      "text/plain": [
       "0.003208693693666757"
      ]
     },
     "metadata": {},
     "output_type": "display_data"
    },
    {
     "data": {
      "text/plain": [
       "0.03427903263731104"
      ]
     },
     "metadata": {},
     "output_type": "display_data"
    },
    {
     "data": {
      "text/plain": [
       "0.023818927004175778"
      ]
     },
     "metadata": {},
     "output_type": "display_data"
    },
    {
     "data": {
      "text/plain": [
       "2.532182523238007e-16"
      ]
     },
     "metadata": {},
     "output_type": "display_data"
    },
    {
     "data": {
      "text/plain": [
       "1.332128149946015e-16"
      ]
     },
     "metadata": {},
     "output_type": "display_data"
    },
    {
     "data": {
      "text/plain": [
       "1.7667702374138336e-16"
      ]
     },
     "metadata": {},
     "output_type": "display_data"
    },
    {
     "data": {
      "text/plain": [
       "1.1604312368310158e-16"
      ]
     },
     "metadata": {},
     "output_type": "display_data"
    }
   ],
   "source": [
    "### lets try to recreate original dataset \n",
    "for j in range(4):\n",
    "    low_dim =eigen_vectors[:,0:j+1]   # 1 to 4 Principal components\n",
    "    projection = X.dot(low_dim)\n",
    "    recreate = projection.dot(low_dim.T)\n",
    "    recreate= recreate.T # to visualise each data point vertically\n",
    "\n",
    "    for i in range(4):\n",
    "\n",
    "        recreate_sepal=recreate[i]\n",
    "        recreate_sepal=(recreate_sepal+np.mean(sepal[i]))*np.std(sepal[i])\n",
    "        RMSE= np.square(recreate_sepal-sepal[i]) \n",
    "        RMSE= np.sum(RMSE)/(150)\n",
    "        RMSE=np.sqrt(RMSE)\n",
    "        RMSE=RMSE/(np.max(sepal[i])-np.min(sepal[i]))\n",
    "        display(RMSE)"
   ]
  },
  {
   "cell_type": "code",
   "execution_count": null,
   "metadata": {},
   "outputs": [],
   "source": []
  }
 ],
 "metadata": {
  "kernelspec": {
   "display_name": "Python 3",
   "language": "python",
   "name": "python3"
  },
  "language_info": {
   "codemirror_mode": {
    "name": "ipython",
    "version": 3
   },
   "file_extension": ".py",
   "mimetype": "text/x-python",
   "name": "python",
   "nbconvert_exporter": "python",
   "pygments_lexer": "ipython3",
   "version": "3.5.2"
  }
 },
 "nbformat": 4,
 "nbformat_minor": 2
}
